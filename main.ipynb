{
 "cells": [
  {
   "metadata": {
    "ExecuteTime": {
     "end_time": "2025-04-02T14:19:21.432151Z",
     "start_time": "2025-04-02T14:19:21.415552Z"
    }
   },
   "cell_type": "code",
   "source": [
    "from source_code.ConfigManager import ConfigManager\n",
    "from source_code.LLM_Module import LLM_Module\n",
    "from source_code.PreferencesModule import PreferencesModule\n",
    "from source_code.RecommenderModule import RecommenderModule\n",
    "from source_code.SentimentAnalysis import SentimentAnalysisModule\n",
    "from source_code.Tokenizer import TokenizerModule\n",
    "from source_code.Frontend import FrontendImplementation\n",
    "from source_code.IntentRecognition import IntentRecognitionModule\n",
    "from source_code.UserDataManagementModule import UserDataManagementModule\n",
    "\n",
    "\n",
    "class ApplicationPipeline:\n",
    "\n",
    "    def __init__(self, frontend: FrontendImplementation = None):\n",
    "        self.intentModule = IntentRecognitionModule()\n",
    "        self.tokenizer = TokenizerModule()\n",
    "        self.userDataManagementModule = UserDataManagementModule()\n",
    "        self.sentimentModule = SentimentAnalysisModule()\n",
    "        self.preferencesModule = PreferencesModule()\n",
    "        self.LLM_Module = LLM_Module()\n",
    "\n",
    "        # Initialize RecommenderModule with configuration\n",
    "        product_file = ConfigManager.CONFIG.get('product_file', 'PRODUCT_clean.csv')\n",
    "        api_url = ConfigManager.CONFIG.get('recommendation_api_url', 'http://localhost:8000')\n",
    "        self.recommenderModule = RecommenderModule(api_url=api_url, product_file=product_file)\n",
    "\n",
    "        self.frontend = frontend\n",
    "        self.frontend.events.on_data += self.run\n",
    "        self.frontend.run()\n",
    "\n",
    "    def run(self, msg):\n",
    "        # Intent recognition block\n",
    "        intent = self.intentModule.recognize_intent(msg)\n",
    "\n",
    "        if ConfigManager.CONFIG.get('debug', False):\n",
    "            self.frontend.insert_message(intent, 'System - Intent Module')\n",
    "\n",
    "        # Message tokenization block\n",
    "        tokens = ' '.join(self.tokenizer.tokenize(msg, intent))\n",
    "\n",
    "        # Intent-based computation flow\n",
    "        if intent == 'Unrelated':\n",
    "            self.frontend.insert_message(self.LLM_Module.response(intent, msg), 'Chatbot')\n",
    "            return 'Unrelated'\n",
    "        \n",
    "        if intent == 'Uncovered':\n",
    "            self.frontend.insert_message(self.LLM_Module.response(intent, msg), 'Chatbot')\n",
    "            return 'Uncovered'\n",
    "        \n",
    "        if intent == 'Purchase' or intent == 'Self-identifying':\n",
    "            response = self.userDataManagementModule.process_intent(intent, tokens)\n",
    "\n",
    "        if intent == 'Preference':\n",
    "            # Sentiment recognition block\n",
    "            sentiment = self.sentimentModule.analyze(msg)\n",
    "            if ConfigManager.CONFIG.get('debug', False):\n",
    "                self.frontend.insert_message(sentiment, 'System - Sentiment Module')\n",
    "\n",
    "            # Preferences update block\n",
    "            user_id = self.userDataManagementModule.get_user_id()\n",
    "            response = self.preferencesModule.update_preferences(user_id, tokens, sentiment)\n",
    "            if ConfigManager.CONFIG.get('debug', False):\n",
    "                self.frontend.insert_message( 'Product preferences have been updated', 'System - Preference Module')\n",
    "\n",
    "        if intent == 'Recommendation':\n",
    "            \n",
    "            user_id = self.userDataManagementModule.get_user_id()\n",
    "            purchases_file = f\"data/user_data/{user_id}purchases.csv\"\n",
    "\n",
    "            response = self.recommenderModule.get_recommendations(purchases_file=purchases_file, user_id=user_id, k=5)\n",
    "\n",
    "        self.frontend.insert_message(self.LLM_Module.response(intent, f'The user stated:' + msg + \" Computation status: \" + response['status'] + \", \" + response['message']), 'Chatbot')\n"
   ],
   "id": "96d8465b5ce17942",
   "outputs": [],
   "execution_count": 3
  },
  {
   "metadata": {
    "collapsed": true,
    "ExecuteTime": {
     "end_time": "2025-04-02T14:19:55.081071Z",
     "start_time": "2025-04-02T14:19:26.510453Z"
    }
   },
   "cell_type": "code",
   "source": [
    "from source_code.ConfigManager import load_config\n",
    "from source_code.Frontend import FrontendImplementation\n",
    "\n",
    "# Loading the configurations from file\n",
    "load_config()\n",
    "\n",
    "if __name__ == \"__main__\":\n",
    "    app = ApplicationPipeline(FrontendImplementation())\n",
    "    "
   ],
   "id": "initial_id",
   "outputs": [
    {
     "name": "stderr",
     "output_type": "stream",
     "text": [
      "Applying column mapping to the training dataset\n",
      "Applying column mapping to the evaluation dataset\n",
      "C:\\Users\\nvisc\\miniconda3\\Lib\\site-packages\\datasets\\utils\\_dill.py:385: DeprecationWarning: co_lnotab is deprecated, use co_lines instead.\n",
      "  obj.co_lnotab,  # for < python 3.10 [not counted in args]\n"
     ]
    },
    {
     "data": {
      "text/plain": [
       "Map:   0%|          | 0/72 [00:00<?, ? examples/s]"
      ],
      "application/vnd.jupyter.widget-view+json": {
       "version_major": 2,
       "version_minor": 0,
       "model_id": "353e25466304446e8a9705759764e3de"
      }
     },
     "metadata": {},
     "output_type": "display_data"
    },
    {
     "name": "stderr",
     "output_type": "stream",
     "text": [
      "Applying column mapping to the evaluation dataset\n",
      "***** Running evaluation *****\n"
     ]
    },
    {
     "name": "stdout",
     "output_type": "stream",
     "text": [
      "{'accuracy': 1.0}\n"
     ]
    },
    {
     "name": "stderr",
     "output_type": "stream",
     "text": [
      "Applying column mapping to the training dataset\n",
      "Applying column mapping to the evaluation dataset\n",
      "C:\\Users\\nvisc\\miniconda3\\Lib\\site-packages\\datasets\\utils\\_dill.py:385: DeprecationWarning: co_lnotab is deprecated, use co_lines instead.\n",
      "  obj.co_lnotab,  # for < python 3.10 [not counted in args]\n"
     ]
    },
    {
     "data": {
      "text/plain": [
       "Map:   0%|          | 0/150 [00:00<?, ? examples/s]"
      ],
      "application/vnd.jupyter.widget-view+json": {
       "version_major": 2,
       "version_minor": 0,
       "model_id": "aa705cb381b1457b9317f896ff232faa"
      }
     },
     "metadata": {},
     "output_type": "display_data"
    },
    {
     "name": "stderr",
     "output_type": "stream",
     "text": [
      "Applying column mapping to the evaluation dataset\n",
      "***** Running evaluation *****\n"
     ]
    },
    {
     "name": "stdout",
     "output_type": "stream",
     "text": [
      "{'accuracy': 1.0}\n"
     ]
    },
    {
     "name": "stderr",
     "output_type": "stream",
     "text": [
      "Applying column mapping to the training dataset\n",
      "Applying column mapping to the evaluation dataset\n",
      "C:\\Users\\nvisc\\miniconda3\\Lib\\site-packages\\datasets\\utils\\_dill.py:385: DeprecationWarning: co_lnotab is deprecated, use co_lines instead.\n",
      "  obj.co_lnotab,  # for < python 3.10 [not counted in args]\n"
     ]
    },
    {
     "data": {
      "text/plain": [
       "Map:   0%|          | 0/70 [00:00<?, ? examples/s]"
      ],
      "application/vnd.jupyter.widget-view+json": {
       "version_major": 2,
       "version_minor": 0,
       "model_id": "218b4a9691c34784bd0e365e5692a87f"
      }
     },
     "metadata": {},
     "output_type": "display_data"
    },
    {
     "name": "stderr",
     "output_type": "stream",
     "text": [
      "Applying column mapping to the evaluation dataset\n",
      "***** Running evaluation *****\n"
     ]
    },
    {
     "name": "stdout",
     "output_type": "stream",
     "text": [
      "{'accuracy': 0.82}\n"
     ]
    },
    {
     "name": "stderr",
     "output_type": "stream",
     "text": [
      "[nltk_data] Downloading package names to\n",
      "[nltk_data]     C:\\Users\\nvisc\\AppData\\Roaming\\nltk_data...\n",
      "[nltk_data]   Package names is already up-to-date!\n",
      "[nltk_data] Downloading package stopwords to\n",
      "[nltk_data]     C:\\Users\\nvisc\\AppData\\Roaming\\nltk_data...\n",
      "[nltk_data]   Package stopwords is already up-to-date!\n",
      "[nltk_data] Downloading package state_union to\n",
      "[nltk_data]     C:\\Users\\nvisc\\AppData\\Roaming\\nltk_data...\n",
      "[nltk_data]   Package state_union is already up-to-date!\n",
      "[nltk_data] Downloading package twitter_samples to\n",
      "[nltk_data]     C:\\Users\\nvisc\\AppData\\Roaming\\nltk_data...\n",
      "[nltk_data]   Package twitter_samples is already up-to-date!\n",
      "[nltk_data] Downloading package movie_reviews to\n",
      "[nltk_data]     C:\\Users\\nvisc\\AppData\\Roaming\\nltk_data...\n",
      "[nltk_data]   Package movie_reviews is already up-to-date!\n",
      "[nltk_data] Downloading package averaged_perceptron_tagger_eng to\n",
      "[nltk_data]     C:\\Users\\nvisc\\AppData\\Roaming\\nltk_data...\n",
      "[nltk_data]   Package averaged_perceptron_tagger_eng is already up-to-\n",
      "[nltk_data]       date!\n",
      "[nltk_data] Downloading package vader_lexicon to\n",
      "[nltk_data]     C:\\Users\\nvisc\\AppData\\Roaming\\nltk_data...\n",
      "[nltk_data]   Package vader_lexicon is already up-to-date!\n",
      "[nltk_data] Downloading package punkt to\n",
      "[nltk_data]     C:\\Users\\nvisc\\AppData\\Roaming\\nltk_data...\n",
      "[nltk_data]   Package punkt is already up-to-date!\n",
      "[nltk_data] Downloading package punkt_tab to\n",
      "[nltk_data]     C:\\Users\\nvisc\\AppData\\Roaming\\nltk_data...\n",
      "[nltk_data]   Package punkt_tab is already up-to-date!\n",
      "[nltk_data] Downloading package maxent_ne_chunker_tab to\n",
      "[nltk_data]     C:\\Users\\nvisc\\AppData\\Roaming\\nltk_data...\n",
      "[nltk_data]   Package maxent_ne_chunker_tab is already up-to-date!\n",
      "[nltk_data] Downloading package words to\n",
      "[nltk_data]     C:\\Users\\nvisc\\AppData\\Roaming\\nltk_data...\n",
      "[nltk_data]   Package words is already up-to-date!\n",
      "C:\\Users\\nvisc\\PycharmProjects\\Chatbot Notebook\\source_code\\UserDataManagementModule.py:28: DtypeWarning: Columns (3,4,7) have mixed types. Specify dtype option on import or set low_memory=False.\n",
      "  self.products_df = pd.read_csv(self.products_file)\n",
      "emoji is not installed, thus not converting emoticons or emojis into text. Install emoji: pip3 install emoji==0.6.0\n",
      "Device set to use cpu\n"
     ]
    },
    {
     "ename": "TclError",
     "evalue": "invalid command name \".!label2.!entry\"",
     "output_type": "error",
     "traceback": [
      "\u001B[1;31m---------------------------------------------------------------------------\u001B[0m",
      "\u001B[1;31mTclError\u001B[0m                                  Traceback (most recent call last)",
      "Cell \u001B[1;32mIn[4], line 8\u001B[0m\n\u001B[0;32m      5\u001B[0m load_config()\n\u001B[0;32m      7\u001B[0m \u001B[38;5;28;01mif\u001B[39;00m \u001B[38;5;18m__name__\u001B[39m \u001B[38;5;241m==\u001B[39m \u001B[38;5;124m\"\u001B[39m\u001B[38;5;124m__main__\u001B[39m\u001B[38;5;124m\"\u001B[39m:\n\u001B[1;32m----> 8\u001B[0m     app \u001B[38;5;241m=\u001B[39m ApplicationPipeline(FrontendImplementation())\n",
      "Cell \u001B[1;32mIn[3], line 35\u001B[0m, in \u001B[0;36mApplicationPipeline.__init__\u001B[1;34m(self, frontend)\u001B[0m\n\u001B[0;32m     33\u001B[0m \u001B[38;5;28mself\u001B[39m\u001B[38;5;241m.\u001B[39mfrontend\u001B[38;5;241m.\u001B[39mrun()\n\u001B[0;32m     34\u001B[0m time\u001B[38;5;241m.\u001B[39msleep(\u001B[38;5;241m3\u001B[39m)\n\u001B[1;32m---> 35\u001B[0m \u001B[38;5;28mself\u001B[39m\u001B[38;5;241m.\u001B[39mfrontend\u001B[38;5;241m.\u001B[39minsert_message(\u001B[38;5;28mself\u001B[39m\u001B[38;5;241m.\u001B[39mLLM_Module\u001B[38;5;241m.\u001B[39mresponse(\u001B[38;5;124m\"\u001B[39m\u001B[38;5;124mGreeting\u001B[39m\u001B[38;5;124m\"\u001B[39m, \u001B[38;5;124m'\u001B[39m\u001B[38;5;124mHi\u001B[39m\u001B[38;5;124m'\u001B[39m), \u001B[38;5;124m'\u001B[39m\u001B[38;5;124m'\u001B[39m)\n",
      "File \u001B[1;32m~\\PycharmProjects\\Chatbot Notebook\\source_code\\Frontend.py:76\u001B[0m, in \u001B[0;36mFrontendImplementation.insert_message\u001B[1;34m(self, msg, sender)\u001B[0m\n\u001B[0;32m     74\u001B[0m \u001B[38;5;28;01mif\u001B[39;00m \u001B[38;5;129;01mnot\u001B[39;00m msg:\n\u001B[0;32m     75\u001B[0m     \u001B[38;5;28;01mreturn\u001B[39;00m\n\u001B[1;32m---> 76\u001B[0m \u001B[38;5;28mself\u001B[39m\u001B[38;5;241m.\u001B[39mmsg_entry\u001B[38;5;241m.\u001B[39mdelete(\u001B[38;5;241m0\u001B[39m, END)\n\u001B[0;32m     77\u001B[0m msg_displayed \u001B[38;5;241m=\u001B[39m \u001B[38;5;124mf\u001B[39m\u001B[38;5;124m\"\u001B[39m\u001B[38;5;132;01m{\u001B[39;00msender\u001B[38;5;132;01m}\u001B[39;00m\u001B[38;5;124m: \u001B[39m\u001B[38;5;132;01m{\u001B[39;00mmsg\u001B[38;5;132;01m}\u001B[39;00m\u001B[38;5;124m\"\u001B[39m \u001B[38;5;241m+\u001B[39m \u001B[38;5;124m\"\u001B[39m\u001B[38;5;130;01m\\n\u001B[39;00m\u001B[38;5;124m\"\u001B[39m\n\u001B[0;32m     78\u001B[0m \u001B[38;5;28mself\u001B[39m\u001B[38;5;241m.\u001B[39mtext_widget\u001B[38;5;241m.\u001B[39mconfigure(state\u001B[38;5;241m=\u001B[39mNORMAL)\n",
      "File \u001B[1;32m~\\miniconda3\\Lib\\tkinter\\__init__.py:3123\u001B[0m, in \u001B[0;36mEntry.delete\u001B[1;34m(self, first, last)\u001B[0m\n\u001B[0;32m   3121\u001B[0m \u001B[38;5;28;01mdef\u001B[39;00m \u001B[38;5;21mdelete\u001B[39m(\u001B[38;5;28mself\u001B[39m, first, last\u001B[38;5;241m=\u001B[39m\u001B[38;5;28;01mNone\u001B[39;00m):\n\u001B[0;32m   3122\u001B[0m \u001B[38;5;250m    \u001B[39m\u001B[38;5;124;03m\"\"\"Delete text from FIRST to LAST (not included).\"\"\"\u001B[39;00m\n\u001B[1;32m-> 3123\u001B[0m     \u001B[38;5;28mself\u001B[39m\u001B[38;5;241m.\u001B[39mtk\u001B[38;5;241m.\u001B[39mcall(\u001B[38;5;28mself\u001B[39m\u001B[38;5;241m.\u001B[39m_w, \u001B[38;5;124m'\u001B[39m\u001B[38;5;124mdelete\u001B[39m\u001B[38;5;124m'\u001B[39m, first, last)\n",
      "\u001B[1;31mTclError\u001B[0m: invalid command name \".!label2.!entry\""
     ]
    }
   ],
   "execution_count": 4
  },
  {
   "metadata": {},
   "cell_type": "code",
   "outputs": [],
   "execution_count": null,
   "source": "",
   "id": "3d7745e07652e8c9"
  }
 ],
 "metadata": {
  "kernelspec": {
   "display_name": "Python 3",
   "language": "python",
   "name": "python3"
  },
  "language_info": {
   "codemirror_mode": {
    "name": "ipython",
    "version": 2
   },
   "file_extension": ".py",
   "mimetype": "text/x-python",
   "name": "python",
   "nbconvert_exporter": "python",
   "pygments_lexer": "ipython2",
   "version": "2.7.6"
  }
 },
 "nbformat": 4,
 "nbformat_minor": 5
}
